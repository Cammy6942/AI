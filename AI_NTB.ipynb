{
  "nbformat": 4,
  "nbformat_minor": 0,
  "metadata": {
    "colab": {
      "provenance": [],
      "include_colab_link": true
    },
    "kernelspec": {
      "name": "python3",
      "display_name": "Python 3"
    },
    "language_info": {
      "name": "python"
    }
  },
  "cells": [
    {
      "cell_type": "markdown",
      "metadata": {
        "id": "view-in-github",
        "colab_type": "text"
      },
      "source": [
        "<a href=\"https://colab.research.google.com/github/Cammy6942/AI/blob/main/AI_NTB.ipynb\" target=\"_parent\"><img src=\"https://colab.research.google.com/assets/colab-badge.svg\" alt=\"Open In Colab\"/></a>"
      ]
    },
    {
      "cell_type": "code",
      "source": [
        "def is_safe(board, row, col, N):\n",
        "    for i in range(col):\n",
        "        if board[row][i] == 1:\n",
        "            return False\n",
        "    for i, j in zip(range(row, -1, -1), range(col, -1, -1)):\n",
        "        if board[i][j] == 1:\n",
        "            return False\n",
        "    for i, j in zip(range(row, N), range(col, -1, -1)):\n",
        "        if board[i][j] == 1:\n",
        "            return False\n",
        "    return True\n",
        "\n",
        "def solve_n_queens_util(board, col, N):\n",
        "    if col >= N:\n",
        "        return True\n",
        "    for i in range(N):\n",
        "        if is_safe(board, i, col, N):\n",
        "            board[i][col] = 1\n",
        "            if solve_n_queens_util(board, col + 1, N):\n",
        "                return True\n",
        "            board[i][col] = 0\n",
        "    return False\n",
        "\n",
        "def solve_n_queens(N):\n",
        "    board = [[0 for _ in range(N)] for _ in range(N)]\n",
        "    if not solve_n_queens_util(board, 0, N):\n",
        "        print(\"Solution does not exist.\")\n",
        "        return\n",
        "    for row in board:\n",
        "        print(\" \".join(\"Q\" if cell == 1 else \".\" for cell in row))\n",
        "n = 100\n",
        "solve_n_queens(n)\n"
      ],
      "metadata": {
        "id": "K0gQgej9cbPY"
      },
      "execution_count": null,
      "outputs": []
    },
    {
      "cell_type": "markdown",
      "source": [
        "The Two Jug Water Problem\n"
      ],
      "metadata": {
        "id": "qYIE-4sgvOcw"
      }
    },
    {
      "cell_type": "code",
      "source": [
        "from collections import deque\n",
        "\n",
        "\n",
        "def BFS(a, b, target):\n",
        "\n",
        "\tm = {}\n",
        "\tisSolvable = False\n",
        "\tpath = []\n",
        "\n",
        "\n",
        "\tq = deque()\n",
        "\n",
        "\tq.append((0, 0))\n",
        "\n",
        "\twhile (len(q) > 0):\n",
        "\t\tu = q.popleft()# If this state is already visited\n",
        "\t\tif ((u[0], u[1]) in m):\n",
        "\t\t\tcontinue\n",
        "\t\tif ((u[0] > a or u[1] > b or\n",
        "\t\t\tu[0] < 0 or u[1] < 0)):\n",
        "\t\t\tcontinue\n",
        "\n",
        "\t\t# Filling the vector for constructing\n",
        "\t\t# the solution path\n",
        "\t\tpath.append([u[0], u[1]])\n",
        "\n",
        "\t\t# Marking current state as visited\n",
        "\t\tm[(u[0], u[1])] = 1\n",
        "\n",
        "\t\t# If we reach solution state, put ans=1\n",
        "\t\tif (u[0] == target or u[1] == target):\n",
        "\t\t\tisSolvable = True\n",
        "\n",
        "\t\t\tif (u[0] == target):\n",
        "\t\t\t\tif (u[1] != 0):\n",
        "\n",
        "\t\t\t\t\t# Fill final state\n",
        "\t\t\t\t\tpath.append([u[0], 0])\n",
        "\t\t\telse:\n",
        "\t\t\t\tif (u[0] != 0):\n",
        "\n",
        "\t\t\t\t\t# Fill final state\n",
        "\t\t\t\t\tpath.append([0, u[1]])\n",
        "\n",
        "\t\t\t# Print the solution path\n",
        "\t\t\tsz = len(path)\n",
        "\t\t\tfor i in range(sz):\n",
        "\t\t\t\tprint(\"(\", path[i][0], \",\",\n",
        "\t\t\t\t\tpath[i][1], \")\")\n",
        "\t\t\tbreak\n",
        "\n",
        "\t\t# If we have not reached final state\n",
        "\t\t# then, start developing intermediate\n",
        "\t\t# states to reach solution state\n",
        "\t\tq.append([u[0], b]) # Fill Jug2\n",
        "\t\tq.append([a, u[1]]) # Fill Jug1\n",
        "\n",
        "\t\tfor ap in range(max(a, b) + 1):\n",
        "\n",
        "\t\t\t# Pour amount ap from Jug2 to Jug1\n",
        "\t\t\tc = u[0] + ap\n",
        "\t\t\td = u[1] - ap\n",
        "\n",
        "\t\t\t# Check if this state is possible or not\n",
        "\t\t\tif (c == a or (d == 0 and d >= 0)):\n",
        "\t\t\t\tq.append([c, d])\n",
        "\n",
        "\t\t\t# Pour amount ap from Jug 1 to Jug2\n",
        "\t\t\tc = u[0] - ap\n",
        "\t\t\td = u[1] + ap\n",
        "\n",
        "\t\t\t# Check if this state is possible or not\n",
        "\t\t\tif ((c == 0 and c >= 0) or d == b):\n",
        "\t\t\t\tq.append([c, d])\n",
        "\n",
        "\t\t# Empty Jug2\n",
        "\t\tq.append([a, 0])\n",
        "\n",
        "\t\t# Empty Jug1\n",
        "\t\tq.append([0, b])\n",
        "\n",
        "\t# No, solution exists if ans=0\n",
        "\tif (not isSolvable):\n",
        "\t\tprint(\"No solution\")\n",
        "\n",
        "\n",
        "# Driver code\n",
        "if __name__ == '__main__':\n",
        "\n",
        "\tJug1, Jug2, target = 4, 3, 2\n",
        "\tprint(\"Path from initial state \"\n",
        "\t\t\"to solution state ::\")\n",
        "\n",
        "\tBFS(Jug1, Jug2, target)\n",
        "\n"
      ],
      "metadata": {
        "id": "GJ9qnUTDsK8F"
      },
      "execution_count": null,
      "outputs": []
    },
    {
      "cell_type": "markdown",
      "source": [
        "DFS code"
      ],
      "metadata": {
        "id": "TFhp0oURhbtF"
      }
    },
    {
      "cell_type": "code",
      "source": [
        "graph = {'A': set(['B','C']),\n",
        "'B' : set(['A','D','E']),\n",
        "'C' : set(['A','F']),\n",
        "'D' : set(['B']),\n",
        "'E' : set(['B','F']),\n",
        "'F' : set(['C','E'])}\n",
        "def dfs(graph,start):\n",
        "  visited, stack =[],[start]\n",
        "  while stack:\n",
        "    vertex = stack.pop()\n",
        "    if vertex not in visited:\n",
        "      visited.append(vertex)\n",
        "      stack.extend(graph[vertex] - set(visited))\n",
        "  return visited\n",
        "\n",
        "dfs(graph,'A')\n"
      ],
      "metadata": {
        "colab": {
          "base_uri": "https://localhost:8080/"
        },
        "id": "G0DRGCUlYA8v",
        "outputId": "61b60425-9fd5-4450-f0d7-d513bf47d1d6"
      },
      "execution_count": null,
      "outputs": [
        {
          "output_type": "execute_result",
          "data": {
            "text/plain": [
              "['A', 'C', 'F', 'E', 'B', 'D']"
            ]
          },
          "metadata": {},
          "execution_count": 10
        }
      ]
    },
    {
      "cell_type": "markdown",
      "source": [
        "BFS Code"
      ],
      "metadata": {
        "id": "T9tG4C3bhkxZ"
      }
    },
    {
      "cell_type": "code",
      "source": [
        "graph = {'A': set(['B','C']),\n",
        "'B' : set(['A','D','E']),\n",
        "'C' : set(['A','F']),\n",
        "'D' : set(['B']),\n",
        "'E' : set(['B','F']),\n",
        "'F' : set(['C','E'])}\n",
        "def bfs(graph,start):\n",
        "  visited, queue =[],[start]\n",
        "  while queue:\n",
        "    vertex = queue.pop()\n",
        "    if vertex not in visited:\n",
        "      visited.append(vertex)\n",
        "      queue.extend(graph[vertex] - set(visited))\n",
        "  return visited\n",
        "\n",
        "bfs(graph,'A')\n"
      ],
      "metadata": {
        "id": "9eNEekWAc72A",
        "colab": {
          "base_uri": "https://localhost:8080/"
        },
        "outputId": "b89be2d2-91d5-4113-8e9a-af8dc2b5e8fa"
      },
      "execution_count": null,
      "outputs": [
        {
          "output_type": "execute_result",
          "data": {
            "text/plain": [
              "['A', 'C', 'F', 'E', 'B', 'D']"
            ]
          },
          "metadata": {},
          "execution_count": 13
        }
      ]
    },
    {
      "cell_type": "markdown",
      "source": [
        "Tower oF hanoi\n"
      ],
      "metadata": {
        "id": "XA1-p4RvnZnI"
      }
    },
    {
      "cell_type": "code",
      "source": [
        "def TowerOfHanoi(n, from_rod, to_rod, aux_rod):\n",
        "\tif n == 0:\n",
        "\t\treturn\n",
        "\tTowerOfHanoi(n-1, from_rod, aux_rod, to_rod)\n",
        "\tprint(\"Move disk\", n, \"from rod\", from_rod, \"to rod\", to_rod)\n",
        "\tTowerOfHanoi(n-1, aux_rod, to_rod, from_rod)\n",
        "\n",
        "N = 3\n",
        "\n",
        "TowerOfHanoi(N, 'A', 'C', 'B')\n"
      ],
      "metadata": {
        "colab": {
          "base_uri": "https://localhost:8080/"
        },
        "id": "-nnx_wHinX7Q",
        "outputId": "fda6ae97-fbcc-46b5-cc4d-36ef725db652"
      },
      "execution_count": null,
      "outputs": [
        {
          "output_type": "stream",
          "name": "stdout",
          "text": [
            "Move disk 1 from rod A to rod C\n",
            "Move disk 2 from rod A to rod B\n",
            "Move disk 1 from rod C to rod B\n",
            "Move disk 3 from rod A to rod C\n",
            "Move disk 1 from rod B to rod A\n",
            "Move disk 2 from rod B to rod C\n",
            "Move disk 1 from rod A to rod C\n"
          ]
        }
      ]
    },
    {
      "cell_type": "code",
      "source": [
        "from collections import deque\n",
        "\n",
        "def BFS (a,b)"
      ],
      "metadata": {
        "id": "A0W0hkQqqOGR"
      },
      "execution_count": null,
      "outputs": []
    }
  ]
}